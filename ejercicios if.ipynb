{
 "cells": [
  {
   "cell_type": "markdown",
   "metadata": {},
   "source": [
    "Los alumnos de un curso se han dividido en dos grupos A y B de acuerdo al sexo y el nombre. El grupo A esta formado por las mujeres con un nombre anterior a la M y los hombres con un nombre posterior a la N y el grupo B por el resto. Escribir un programa que pregunte al usuario su nombre y sexo, y muestre por pantalla el grupo que le corresponde."
   ]
  },
  {
   "cell_type": "code",
   "execution_count": null,
   "metadata": {},
   "outputs": [],
   "source": [
    "nombre =input(\"Cual es tu nombre\")\n",
    "sexo = input(\"cual es tu sexo. ¿Masculino o Femenino?\")\n",
    "\n",
    "abc1 =\"abcdefghijklmnopqsrtuvwxyz\"\n",
    "\n",
    "if (nombre[0].lower() in abc1[:12] and sexo.lower() == \"femenino\") or (nombre[0].lower() in abc1[14:] and sexo.lower() == \"masculino\"):\n",
    "    print(\"Estas en el grupo A \")\n",
    "\n",
    "elif (nombre[0].lower() in abc1[12:] and sexo.lower() == \"femenino\") or (nombre[0].lower() in abc1[:13] and sexo.lower() == \"masculino\"):\n",
    "    print(\"Estas en el grupo B \")    \n",
    "else:\n",
    "    print(\"Escribe bien tus datos\") "
   ]
  },
  {
   "cell_type": "markdown",
   "metadata": {},
   "source": [
    "Los tramos impositivos para la declaración de la renta en un determinado país son los siguientes:\n",
    "\n",
    "Renta\tTipo impositivo\n",
    "Menos de 10000€\t         5%\n",
    "Entre 10000€ y 20000€\t15%\n",
    "Entre 20000€ y 35000€\t20%\n",
    "Entre 35000€ y 60000€\t30%\n",
    "Más de 60000€\t        45%\n",
    "Escribir un programa que pregunte al usuario su renta anual y muestre por pantalla el tipo impositivo que le corresponde."
   ]
  },
  {
   "cell_type": "code",
   "execution_count": 9,
   "metadata": {},
   "outputs": [
    {
     "name": "stdout",
     "output_type": "stream",
     "text": [
      "Tu impositorio es: 330.0\n"
     ]
    }
   ],
   "source": [
    "renta = float(input(\"cual es tu renta mensual?\"))\n",
    "\n",
    "if (renta < 10000):\n",
    "    impositivo = float(0.05)\n",
    "elif (renta >= 10000 and renta < 20000):\n",
    "    impositivo = float(0.15)\n",
    "elif (renta >= 20000 and renta < 35000):\n",
    "    impositivo = float(0.20)\n",
    "elif (renta >= 35000 and renta < 60000):\n",
    "    impositivo = float(0.30)\n",
    "else:\n",
    "    impositivo = float(0.45)        \n",
    "\n",
    "\n",
    "print(\"Tu impositorio es:\", renta * impositivo)        "
   ]
  },
  {
   "cell_type": "markdown",
   "metadata": {},
   "source": [
    "En una determinada empresa, sus empleados son evaluados al final de cada año. Los puntos que pueden obtener en la evaluación comienzan en 0.0 y pueden ir aumentando, traduciéndose en mejores beneficios. Los puntos que pueden conseguir los empleados pueden ser 0.0, 0.4, 0.6 o más, pero no valores intermedios entre las cifras mencionadas. A continuación se muestra una tabla con los niveles correspondientes a cada puntuación. La cantidad de dinero conseguida en cada nivel es de 2.400€ multiplicada por la puntuación del nivel.\n",
    "\n",
    "Nivel\tPuntuación\n",
    "Inaceptable\t0.0\n",
    "Aceptable\t0.4\n",
    "Meritorio\t0.6 o más\n",
    "Escribir un programa que lea la puntuación del usuario e indique su nivel de rendimiento, así como la cantidad de dinero que recibirá el usuario."
   ]
  },
  {
   "cell_type": "code",
   "execution_count": 20,
   "metadata": {},
   "outputs": [
    {
     "name": "stdout",
     "output_type": "stream",
     "text": [
      "Ingresa un valor de puntuacion aceptable\n"
     ]
    }
   ],
   "source": [
    "puntuacion = float(input(\"Cual es la puntuacion del empleado?\"))\n",
    "if(puntuacion == 0.0 ):\n",
    "    print(\"Tu nivel de rendimiento es Inaceptable. La cantidad de dinero conseguida es: \", puntuacion * 2.400)\n",
    "elif(puntuacion == 0.4 ):\n",
    "    print(\"Tu nivel de rendimiento es Aceptable. La cantidad de dinero conseguida es: \", puntuacion * 2.400)\n",
    "elif(puntuacion >= 0.6 ):\n",
    "    print(\"Tu nivel de rendimiento es Meritorio. La cantidad de dinero conseguida es: \", puntuacion * 2.400)\n",
    "else:\n",
    "    print(\"Ingresa un valor de puntuacion aceptable\")            "
   ]
  },
  {
   "cell_type": "markdown",
   "metadata": {},
   "source": [
    "La pizzería Bella Napoli ofrece pizzas vegetarianas y no vegetarianas a sus clientes. Los ingredientes para cada tipo de pizza aparecen a continuación.\n",
    "\n",
    "Ingredientes vegetarianos: Pimiento y tofu.\n",
    "Ingredientes no vegetarianos: Peperoni, Jamón y Salmón.  \n",
    "\n",
    "Escribir un programa que pregunte al usuario si quiere una pizza vegetariana o no, y en función de su respuesta le muestre un menú con los ingredientes disponibles para que elija. Solo se puede eligir un ingrediente además de la mozzarella y el tomate que están en todas la pizzas. Al final se debe mostrar por pantalla si la pizza elegida es vegetariana o no y todos los ingredientes que lleva."
   ]
  },
  {
   "cell_type": "code",
   "execution_count": 24,
   "metadata": {},
   "outputs": [
    {
     "name": "stdout",
     "output_type": "stream",
     "text": [
      "La pizza elegida es: vegetariana  Ingredientes: Mozarella, Tofu y  s\n"
     ]
    }
   ],
   "source": [
    "pizza = input(\"Que tipo de pizza quiere: vegetariana o no vegetariana?\")\n",
    "if(pizza == \"vegetariana\"):\n",
    "    ingrediente = input(\"Los ingredientes son Mozzarella, Tomate y un ingrediente a tu elección. Elige Pimiento o Tofu\")\n",
    "    print(\"La pizza elegida es:\", pizza, \" Ingredientes: Mozarella, Tofu y \", ingrediente)\n",
    "elif(pizza == \"no vegetariana\"):\n",
    "    ingrediente = input(\"Los ingredientes son Mozzarella, Tomate y un ingrediente a tu elección. Elige Peperoni, Jamon o Salmon\")\n",
    "    print(\"La pizza elegida es:\", pizza, \" Ingredientes: Mozarella, Tofu y \", ingrediente)\n",
    "else:\n",
    "    print(\"Elige una pizza valida\")        "
   ]
  }
 ],
 "metadata": {
  "kernelspec": {
   "display_name": "Python 3",
   "language": "python",
   "name": "python3"
  },
  "language_info": {
   "codemirror_mode": {
    "name": "ipython",
    "version": 3
   },
   "file_extension": ".py",
   "mimetype": "text/x-python",
   "name": "python",
   "nbconvert_exporter": "python",
   "pygments_lexer": "ipython3",
   "version": "3.11.3"
  }
 },
 "nbformat": 4,
 "nbformat_minor": 2
}
