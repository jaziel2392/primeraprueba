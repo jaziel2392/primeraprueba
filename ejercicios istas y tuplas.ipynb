{
 "cells": [
  {
   "cell_type": "markdown",
   "metadata": {},
   "source": [
    "Escribir un programa que almacene las asignaturas de un curso (por ejemplo Matemáticas, Física, Química, Historia y Lengua) en una lista y la muestre por pantalla."
   ]
  },
  {
   "cell_type": "code",
   "execution_count": 1,
   "metadata": {},
   "outputs": [
    {
     "name": "stdout",
     "output_type": "stream",
     "text": [
      "['Matemáticas', 'Física', 'Química', 'Historia', 'Lengua']\n"
     ]
    }
   ],
   "source": [
    "subjects = [\"Matemáticas\", \"Física\", \"Química\", \"Historia\", \"Lengua\"]\n",
    "print(subjects)\n"
   ]
  },
  {
   "cell_type": "markdown",
   "metadata": {},
   "source": [
    "Escribir un programa que almacene las asignaturas de un curso (por ejemplo Matemáticas, Física, Química, Historia y Lengua) en una lista y la muestre por pantalla el mensaje Yo estudio <asignatura>, donde <asignatura> es cada una de las asignaturas de la lista."
   ]
  },
  {
   "cell_type": "code",
   "execution_count": 2,
   "metadata": {},
   "outputs": [
    {
     "name": "stdout",
     "output_type": "stream",
     "text": [
      "Yo estudio:  Matemáticas\n",
      "Yo estudio:  Física\n",
      "Yo estudio:  Química\n",
      "Yo estudio:  Historia\n",
      "Yo estudio:  Lengua\n"
     ]
    }
   ],
   "source": [
    "subjects = [\"Matemáticas\", \"Física\", \"Química\", \"Historia\", \"Lengua\"]\n",
    "\n",
    "for i in subjects:\n",
    "    print(\"Yo estudio: \", i)"
   ]
  },
  {
   "cell_type": "markdown",
   "metadata": {},
   "source": [
    "Escribir un programa que almacene las asignaturas de un curso (por ejemplo Matemáticas, Física, Química, Historia y Lengua) en una lista, pregunte al usuario la nota que ha sacado en cada asignatura, y después las muestre por pantalla con el mensaje En <asignatura> has sacado <nota> donde <asignatura> es cada una des las asignaturas de la lista y <nota> cada una de las correspondientes notas introducidas por el usuario."
   ]
  },
  {
   "cell_type": "code",
   "execution_count": 70,
   "metadata": {},
   "outputs": [
    {
     "name": "stdout",
     "output_type": "stream",
     "text": [
      "En Matemáticas has sacado 70\n",
      "En Física has sacado 40\n",
      "En Química has sacado 70\n",
      "En Historia has sacado 70\n",
      "En Lengua has sacado 80\n"
     ]
    }
   ],
   "source": [
    "subjects = [\"Matemáticas\", \"Física\", \"Química\", \"Historia\", \"Lengua\"]\n",
    "scores =[]\n",
    "\n",
    "for i in subjects:\n",
    "   score = input(\"Cuantos has sacado en:\" + i)\n",
    "   scores.append(score)\n",
    "   \n",
    "for i in range(len(subjects)):  #range nos da un rango valido que va de 0 a len - 1, en este caso de 0 a 4\n",
    "    print(\"En \" + subjects[i] + \" has sacado \" + scores[i])      \n"
   ]
  },
  {
   "cell_type": "markdown",
   "metadata": {},
   "source": [
    "Escribir un programa que pregunte al usuario los números ganadores de la lotería primitiva, los almacene en una lista y los muestre por pantalla ordenados de menor a mayor."
   ]
  },
  {
   "cell_type": "code",
   "execution_count": 43,
   "metadata": {},
   "outputs": [
    {
     "name": "stdout",
     "output_type": "stream",
     "text": [
      "Los numero ganadores son [24, 78, 87, 544, 32447654]\n"
     ]
    }
   ],
   "source": [
    "numbers = []\n",
    "for i in range(5):\n",
    "    number = int(input(\"introduce un numero ganador:\"))\n",
    "    numbers.append(number)\n",
    "\n",
    "numbers.sort()\n",
    "print(\"Los numero ganadores son\", numbers)"
   ]
  },
  {
   "cell_type": "markdown",
   "metadata": {},
   "source": [
    "Escribir un programa que almacene las asignaturas de un curso (por ejemplo Matemáticas, Física, Química, Historia y Lengua) en una lista, pregunte al usuario la nota que ha sacado en cada asignatura y elimine de la lista las asignaturas aprobadas. Al final el programa debe mostrar por pantalla las asignaturas que el usuario tiene que repetir."
   ]
  },
  {
   "cell_type": "code",
   "execution_count": 81,
   "metadata": {},
   "outputs": [
    {
     "name": "stdout",
     "output_type": "stream",
     "text": [
      "Tienes que repetir ['Física', 'Química']\n"
     ]
    }
   ],
   "source": [
    "#solucion, creas un array con las materias aprobadas, y luego eliminas esas materias aprobadas para solo dejar las reprobadas\n",
    "subjects = [\"Matemáticas\", \"Física\", \"Química\"]\n",
    "scores =[]\n",
    "\n",
    "for i in subjects:\n",
    "    score = float(input(\"Cuantos has sacado en: \" + i))\n",
    "    if score >= 5:\n",
    "        scores.append(i)\n",
    "    \n",
    "for i in scores:\n",
    "    subjects.remove(i)    \n",
    "print(\"Tienes que repetir \" + str(subjects))\n"
   ]
  },
  {
   "cell_type": "markdown",
   "metadata": {},
   "source": [
    "Escribir un programa que almacene el abecedario en una lista, elimine de la lista las letras que ocupen posiciones múltiplos de 3, y muestre por pantalla la lista resultante."
   ]
  },
  {
   "cell_type": "code",
   "execution_count": 112,
   "metadata": {},
   "outputs": [
    {
     "name": "stdout",
     "output_type": "stream",
     "text": [
      "[0, 3, 6, 9, 12, 15, 18, 21, 24]\n"
     ]
    },
    {
     "ename": "ValueError",
     "evalue": "list.remove(x): x not in list",
     "output_type": "error",
     "traceback": [
      "\u001b[1;31m---------------------------------------------------------------------------\u001b[0m",
      "\u001b[1;31mValueError\u001b[0m                                Traceback (most recent call last)",
      "Cell \u001b[1;32mIn[112], line 12\u001b[0m\n\u001b[0;32m      9\u001b[0m \u001b[38;5;28mprint\u001b[39m(multiplos)        \n\u001b[0;32m     11\u001b[0m \u001b[38;5;28;01mfor\u001b[39;00m i \u001b[38;5;129;01min\u001b[39;00m multiplos:\n\u001b[1;32m---> 12\u001b[0m     \u001b[43mabecedario\u001b[49m\u001b[38;5;241;43m.\u001b[39;49m\u001b[43mremove\u001b[49m\u001b[43m(\u001b[49m\u001b[43mi\u001b[49m\u001b[43m)\u001b[49m\n\u001b[0;32m     13\u001b[0m \u001b[38;5;28mprint\u001b[39m(abecedario) \n",
      "\u001b[1;31mValueError\u001b[0m: list.remove(x): x not in list"
     ]
    }
   ],
   "source": [
    "#mi codigo con error\n",
    "abecedario = ['a', 'b', 'c', 'd', 'e', 'f', 'g', 'h', 'i', 'j', 'k', 'l', 'm', 'n', 'o', 'p', 'q', 'r', 's', 't', 'u', 'v', 'w', 'x', 'y', 'z']\n",
    "\n",
    "multiplos = []\n",
    "\n",
    "for i in range(len(abecedario)):\n",
    "    if i % 3 == 0:\n",
    "        multiplos.append(i)\n",
    "print(multiplos)        \n",
    "\n",
    "for i in multiplos:\n",
    "    abecedario.remove(i)\n",
    "print(abecedario) "
   ]
  },
  {
   "cell_type": "code",
   "execution_count": 16,
   "metadata": {},
   "outputs": [
    {
     "name": "stdout",
     "output_type": "stream",
     "text": [
      "['a', 'b', 'c', 'd', 'e', 'g', 'h', 'j', 'k', 'm', 'n', 'p', 'q', 's', 't', 'v', 'w', 'y', 'z']\n"
     ]
    }
   ],
   "source": [
    "# codigo correcto\n",
    "abecedario = ['a', 'b', 'c', 'd', 'e', 'f', 'g', 'h', 'i', 'j', 'k', 'l', 'm', 'n', 'o', 'p', 'q', 'r', 's', 't', 'u', 'v', 'w', 'x', 'y', 'z']\n",
    "\n",
    "for i in range(len(abecedario), 1, -1): \n",
    "    if i % 3 == 0:\n",
    "        abecedario.pop(i-1) #se usa i - 1 para acceder al índice correcto en la lista.\n",
    "print(abecedario)        \n",
    "\n",
    "#len(abecedario): Esto devuelve la longitud de la lista abecedario, que es 26\n",
    "#1: Este es el límite inferior del rango. Se especifica como 1 porque queremos que el rango vaya hasta, pero no incluya, el número 1. \n",
    "#Esto significa que el rango irá desde len(abecedario) (26) hasta 2.\n",
    "#-1: Este es el paso del rango. Especificamos -1 para que el rango vaya hacia atrás, de manera que cada iteración del bucle for reste 1 al índice.\n",
    "#Esto generará una secuencia de números desde 26 hasta 2 (exclusivo), de uno en uno hacia atrás, es decir, [26, 25, 24, ..., 3, 2]"
   ]
  },
  {
   "cell_type": "code",
   "execution_count": 28,
   "metadata": {},
   "outputs": [
    {
     "name": "stdout",
     "output_type": "stream",
     "text": [
      "Es palindromo\n"
     ]
    }
   ],
   "source": [
    "word = input(\"introduce una palabra:\")\n",
    "reverse_word = word\n",
    "\n",
    "reverse_word = list(reverse_word)\n",
    "reverse_word.reverse()\n",
    "word = list(word)\n",
    "\n",
    "if word == reverse_word:\n",
    "    print(\"Es palindromo\")\n",
    "else:\n",
    "    print(\"no es palindromo\")    "
   ]
  },
  {
   "cell_type": "markdown",
   "metadata": {},
   "source": [
    "Escribir un programa que pida al usuario una palabra y muestre por pantalla el número de veces que contiene cada vocal."
   ]
  },
  {
   "cell_type": "code",
   "execution_count": 2,
   "metadata": {},
   "outputs": [
    {
     "name": "stdout",
     "output_type": "stream",
     "text": [
      "tomate\n",
      "La vocal a aparece 1 veces\n",
      "La vocal e aparece 1 veces\n",
      "La vocal i aparece 0 veces\n",
      "La vocal o aparece 1 veces\n",
      "La vocal u aparece 0 veces\n"
     ]
    }
   ],
   "source": [
    "word = input(\"Introduce una palabra: \")\n",
    "print(word)\n",
    "vocals = ['a', 'e', 'i', 'o', 'u']\n",
    "for vocal in vocals: \n",
    "    times = 0\n",
    "    for letter in word: \n",
    "        if letter == vocal:\n",
    "            times += 1\n",
    "    print(\"La vocal \" + vocal + \" aparece \" + str(times) + \" veces\")"
   ]
  }
 ],
 "metadata": {
  "kernelspec": {
   "display_name": "Python 3",
   "language": "python",
   "name": "python3"
  },
  "language_info": {
   "codemirror_mode": {
    "name": "ipython",
    "version": 3
   },
   "file_extension": ".py",
   "mimetype": "text/x-python",
   "name": "python",
   "nbconvert_exporter": "python",
   "pygments_lexer": "ipython3",
   "version": "3.11.3"
  }
 },
 "nbformat": 4,
 "nbformat_minor": 2
}
