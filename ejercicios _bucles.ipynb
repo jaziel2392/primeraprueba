{
 "cells": [
  {
   "cell_type": "markdown",
   "metadata": {},
   "source": [
    "Escribir un programa que pida al usuario una palabra y la muestre por pantalla 10 veces"
   ]
  },
  {
   "cell_type": "code",
   "execution_count": 5,
   "metadata": {},
   "outputs": [
    {
     "name": "stdout",
     "output_type": "stream",
     "text": [
      "jaziel\n",
      "jaziel\n",
      "jaziel\n",
      "jaziel\n"
     ]
    }
   ],
   "source": [
    "palabra = input(\"ingresa una palabra\")\n",
    "\n",
    "for i in range(4):\n",
    "    print (palabra)"
   ]
  },
  {
   "cell_type": "markdown",
   "metadata": {},
   "source": [
    "Escribir un programa que pregunte al usuario su edad y muestre por pantalla todos los años que ha cumplido (desde 1 hasta su edad)."
   ]
  },
  {
   "cell_type": "code",
   "execution_count": 9,
   "metadata": {},
   "outputs": [
    {
     "name": "stdout",
     "output_type": "stream",
     "text": [
      "1\n",
      "2\n",
      "3\n",
      "4\n",
      "5\n"
     ]
    }
   ],
   "source": [
    "edad = int(input(\"introduce tu edad\"))\n",
    "edad2 = 1\n",
    "\n",
    "while(edad2 <= edad):\n",
    "    print(edad2)\n",
    "    edad2 = edad2+1"
   ]
  },
  {
   "cell_type": "markdown",
   "metadata": {},
   "source": [
    "Escribir un programa que pida al usuario un número entero positivo y muestre por pantalla todos los números impares desde 1 hasta ese \n",
    "número separados por comas."
   ]
  },
  {
   "cell_type": "code",
   "execution_count": 17,
   "metadata": {},
   "outputs": [
    {
     "name": "stdout",
     "output_type": "stream",
     "text": [
      "1, 3, 5, 7, 9, 11, 13, 15, 17, 19, "
     ]
    }
   ],
   "source": [
    "n = int(input(\"Introduce un número entero positivo: \"))\n",
    "for i in range(1, n+1, 2):\n",
    "    print(i, end=\", \")"
   ]
  },
  {
   "cell_type": "markdown",
   "metadata": {},
   "source": [
    "Escribir un programa que pida al usuario un número entero positivo y muestre por pantalla la cuenta atrás desde ese número hasta cero separados por comas."
   ]
  },
  {
   "cell_type": "code",
   "execution_count": 36,
   "metadata": {},
   "outputs": [
    {
     "name": "stdout",
     "output_type": "stream",
     "text": [
      "5, 4, 3, 2, 1, 0, "
     ]
    }
   ],
   "source": [
    "n = int(input(\"Introduce un número entero positivo: \"))\n",
    "for i in range(n, -1, -1):\n",
    "    print(i, end=\", \")\n",
    "\n"
   ]
  },
  {
   "cell_type": "code",
   "execution_count": 35,
   "metadata": {},
   "outputs": [
    {
     "name": "stdout",
     "output_type": "stream",
     "text": [
      "5\n",
      "4\n",
      "3\n",
      "2\n",
      "1\n",
      "0\n"
     ]
    }
   ],
   "source": [
    "n = int(input(\"Introduce un número entero positivo: \"))\n",
    "\n",
    "while n >= 0:\n",
    "    print(n)\n",
    "    n -= 1"
   ]
  },
  {
   "cell_type": "markdown",
   "metadata": {},
   "source": [
    "Escribir un programa que pregunte al usuario una cantidad a invertir, el interés anual y el número de años, y muestre por pantalla el capital obtenido en la inversión cada año que dura la inversión."
   ]
  },
  {
   "cell_type": "code",
   "execution_count": 51,
   "metadata": {},
   "outputs": [
    {
     "name": "stdout",
     "output_type": "stream",
     "text": [
      "1100.0\n",
      "1210.0\n",
      "1331.0\n",
      "1464.1\n",
      "1610.51\n",
      "1771.561\n",
      "1948.7170999999998\n",
      "2143.5888099999997\n",
      "2357.947691\n",
      "2593.7424601\n"
     ]
    }
   ],
   "source": [
    "inversion =  float(input(\"Introduce tu inversion: \"))\n",
    "interes =  (float(input(\"Introduce el interes anual: \"))) / 100\n",
    "duracion =  int(input(\"Introduce el numero de años: \"))\n",
    "contador = 1\n",
    "\n",
    "while(contador <= duracion):\n",
    "    inversion = (inversion * interes) + inversion\n",
    "    print(inversion)\n",
    "    contador = contador + 1\n"
   ]
  },
  {
   "cell_type": "markdown",
   "metadata": {},
   "source": [
    "Escribir un programa que pida al usuario un número entero y muestre por pantalla un triángulo rectángulo como el de más abajo, de altura el número introducido."
   ]
  },
  {
   "cell_type": "code",
   "execution_count": 57,
   "metadata": {},
   "outputs": [
    {
     "name": "stdout",
     "output_type": "stream",
     "text": [
      "*\n",
      "**\n",
      "***\n",
      "****\n",
      "*****\n",
      "******\n",
      "*******\n",
      "********\n",
      "*********\n",
      "**********\n"
     ]
    }
   ],
   "source": [
    "altura =int(input(\"Introduce la altura del triangulo\"))\n",
    "contador = \"*\"\n",
    "\n",
    "for i in range(altura):\n",
    "    print(contador)\n",
    "    contador = contador + \"*\"\n"
   ]
  },
  {
   "cell_type": "markdown",
   "metadata": {},
   "source": [
    "Escribir un programa que muestre por pantalla la tabla de multiplicar del 1 al 10."
   ]
  },
  {
   "cell_type": "code",
   "execution_count": 58,
   "metadata": {},
   "outputs": [
    {
     "name": "stdout",
     "output_type": "stream",
     "text": [
      "1  X  10  =  10\n",
      "2  X  10  =  20\n",
      "3  X  10  =  30\n",
      "4  X  10  =  40\n",
      "5  X  10  =  50\n",
      "6  X  10  =  60\n",
      "7  X  10  =  70\n",
      "8  X  10  =  80\n",
      "9  X  10  =  90\n",
      "10  X  10  =  100\n"
     ]
    }
   ],
   "source": [
    "tabla = 10\n",
    "contador = 1\n",
    "\n",
    "while(contador <= tabla):\n",
    "    resultado = contador * tabla\n",
    "    print(contador, \" X \", tabla, \" = \", resultado)\n",
    "    contador = contador + 1"
   ]
  },
  {
   "cell_type": "markdown",
   "metadata": {},
   "source": [
    "Escribir un programa que pida al usuario un número entero y muestre por pantalla un triángulo rectángulo como el de más abajo  \n",
    "1\n",
    "3 1\n",
    "5 3 1\n",
    "7 5 3 1\n",
    "9 7 5 3 1"
   ]
  },
  {
   "cell_type": "code",
   "execution_count": 62,
   "metadata": {},
   "outputs": [
    {
     "name": "stdout",
     "output_type": "stream",
     "text": [
      "1\n",
      "1 -1\n",
      "3 1\n",
      "5 3\n",
      "7 5\n",
      "9 7\n"
     ]
    }
   ],
   "source": [
    "altura =int(input(\"Introduce la altura del triangulo\"))\n",
    "contador = 1\n",
    "for j in range(altura):\n",
    "    for i in range(altura):\n",
    "        print(contador, i)\n",
    "        contador = contador + 2\n"
   ]
  },
  {
   "cell_type": "markdown",
   "metadata": {},
   "source": [
    "Escribir un programa que almacene la cadena de caracteres contraseña en una variable, pregunte al usuario por la contraseña hasta que introduzca la contraseña correcta."
   ]
  },
  {
   "cell_type": "code",
   "execution_count": 8,
   "metadata": {},
   "outputs": [
    {
     "name": "stdout",
     "output_type": "stream",
     "text": [
      "Contraseña correcta\n"
     ]
    }
   ],
   "source": [
    "password = \"contra\"\n",
    "introduce_contra = \"j\"\n",
    "while (password != introduce_contra):\n",
    "    introduce_contra = input(\"Introduce una contraseña\")\n",
    "    if password == introduce_contra:\n",
    "        print(\"Contraseña correcta\")\n",
    "\n",
    "              "
   ]
  },
  {
   "cell_type": "code",
   "execution_count": null,
   "metadata": {},
   "outputs": [],
   "source": [
    "key = \"contraseña\"\n",
    "password =\"\"\n",
    "while password != key:\n",
    "    password = input(\"Introduce la contraseña: \")\n",
    "print(\"Contraseña correcta\")"
   ]
  },
  {
   "cell_type": "markdown",
   "metadata": {},
   "source": []
  },
  {
   "cell_type": "code",
   "execution_count": null,
   "metadata": {},
   "outputs": [],
   "source": []
  }
 ],
 "metadata": {
  "kernelspec": {
   "display_name": "Python 3",
   "language": "python",
   "name": "python3"
  },
  "language_info": {
   "codemirror_mode": {
    "name": "ipython",
    "version": 3
   },
   "file_extension": ".py",
   "mimetype": "text/x-python",
   "name": "python",
   "nbconvert_exporter": "python",
   "pygments_lexer": "ipython3",
   "version": "3.11.3"
  }
 },
 "nbformat": 4,
 "nbformat_minor": 2
}
